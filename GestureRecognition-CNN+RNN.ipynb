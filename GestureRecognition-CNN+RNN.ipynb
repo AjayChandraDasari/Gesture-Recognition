{
 "cells": [
  {
   "cell_type": "markdown",
   "metadata": {},
   "source": [
    "# Gesture Recognition Using CNN with RNN\n",
    "In this group project, you are going to build a 3D Conv model that will be able to predict the 5 gestures correctly. Please import the following libraries to get started."
   ]
  },
  {
   "cell_type": "code",
   "execution_count": 1,
   "metadata": {},
   "outputs": [],
   "source": [
    "import numpy as np\n",
    "import os\n",
    "from scipy.misc import imread, imresize\n",
    "import datetime\n",
    "import os\n",
    "from numpy.random import randint"
   ]
  },
  {
   "cell_type": "markdown",
   "metadata": {},
   "source": [
    "We set the random seed so that the results don't vary drastically."
   ]
  },
  {
   "cell_type": "code",
   "execution_count": 2,
   "metadata": {},
   "outputs": [
    {
     "name": "stderr",
     "output_type": "stream",
     "text": [
      "Using TensorFlow backend.\n"
     ]
    }
   ],
   "source": [
    "np.random.seed(30)\n",
    "import random as rn\n",
    "rn.seed(30)\n",
    "from keras import backend as K\n",
    "import tensorflow as tf\n",
    "tf.set_random_seed(30)"
   ]
  },
  {
   "cell_type": "markdown",
   "metadata": {},
   "source": [
    "In this block, you read the folder names for training and validation. You also set the `batch_size` here. Note that you set the batch size in such a way that you are able to use the GPU in full capacity. You keep increasing the batch size until the machine throws an error."
   ]
  },
  {
   "cell_type": "code",
   "execution_count": 3,
   "metadata": {},
   "outputs": [],
   "source": [
    "train_doc = np.random.permutation(open('/mnt/disks/user/project/PROJECT/Project_data/train.csv').readlines())\n",
    "val_doc = np.random.permutation(open('/mnt/disks/user/project/PROJECT/Project_data/val.csv').readlines())\n",
    "batch_size = 80\n",
    "idx_size = 30"
   ]
  },
  {
   "cell_type": "code",
   "execution_count": 4,
   "metadata": {},
   "outputs": [
    {
     "data": {
      "text/plain": [
       "'/mnt/disks/user/project/PROJECT'"
      ]
     },
     "execution_count": 4,
     "metadata": {},
     "output_type": "execute_result"
    }
   ],
   "source": [
    "cwd = os.getcwd()\n",
    "cwd"
   ]
  },
  {
   "cell_type": "markdown",
   "metadata": {},
   "source": [
    "## Generator\n",
    "This is one of the most important part of the code. The overall structure of the generator has been given. In the generator, you are going to preprocess the images as you have images of 2 different dimensions as well as create a batch of video frames. You have to experiment with `img_idx`, `y`,`z` and normalization such that you get high accuracy."
   ]
  },
  {
   "cell_type": "code",
   "execution_count": 5,
   "metadata": {},
   "outputs": [],
   "source": [
    "def generator(source_path, folder_list, batch_size):\n",
    "    print( 'Source path = ', source_path, '; batch size =', batch_size)\n",
    "    np.random.seed(5)\n",
    "#     img_idx = [x for x in randint(0,30,idx_size)] #create a list of image numbers you want to use for a particular video\n",
    "    img_idx = [x for x in range(idx_size)] #create a list of image numbers you want to use for a particular video\n",
    "    while True:\n",
    "        t = np.random.permutation(folder_list)\n",
    "        num_batches = len(folder_list)//batch_size\n",
    "        for batch in range(num_batches): # we iterate over the number of batches\n",
    "            \n",
    "            batch_data = np.zeros((batch_size,len(img_idx),110,110,3)) # x is the number of images you use for each video, (y,z) is the final size of the input images and 3 is the number of channels RGB\n",
    "            batch_labels = np.zeros((batch_size,5)) # batch_labels is the one hot representation of the output\n",
    "            \n",
    "            for folder in range(batch_size): # iterate over the batch_size\n",
    "                \n",
    "                imgs = os.listdir(source_path+'/'+ t[folder + (batch*batch_size)].split(';')[0]) # read all the images in the folder\n",
    "                \n",
    "                for idx,item in enumerate(img_idx): #  Iterate iver the frames/images of a folder to read them in\n",
    "                    \n",
    "                    image = imread(source_path+'/'+ t[folder + (batch*batch_size)].strip().split(';')[0]+'/'+imgs[item]).astype(np.float32)\n",
    "                    \n",
    "                    #crop the images and resize them. Note that the images are of 2 different shape                    \n",
    "                    #and the conv3D will throw error if the inputs in a batch have different shapes\n",
    "                    \n",
    "                    image = imresize(image, (110, 110))\n",
    "                    \n",
    "                    batch_data[folder,idx,:,:,0] = image[:, : , 0] - np.min(image[:, : , 0])/np.max(image[:, : , 0]) - np.min(image[:, : , 0])\n",
    "                    batch_data[folder,idx,:,:,1] = image[:, : , 1] - np.min(image[:, : , 1])/np.max(image[:, : , 1]) - np.min(image[:, : , 1])\n",
    "                    batch_data[folder,idx,:,:,2] = image[:, : , 2] - np.min(image[:, : , 2])/np.max(image[:, : , 2]) - np.min(image[:, : , 2])\n",
    "                    \n",
    "                batch_labels[folder, int(t[folder + (batch*batch_size)].strip().split(';')[2])] = 1\n",
    "            yield batch_data, batch_labels #you yield the batch_data and the batch_labels, remember what does yield do\n",
    "\n",
    "        \n",
    "         # write the code for the remaining data points which are left after full batches\n",
    "        rest_batch = len(folder_list)%batch_size\n",
    "        batch_data = np.zeros((rest_batch,idx_size,110,110,3)) \n",
    "        batch_labels = np.zeros((rest_batch,5))\n",
    "        for folder in range(rest_batch): # iterate over the batch_size\n",
    "            imgs = os.listdir(source_path+'/'+ t[folder + (len(folder_list) - rest_batch)].split(';')[0]) # read all the images in the folder\n",
    "            for idx,item in enumerate(img_idx): #  Iterate iver the frames/images of a folder to read them in\n",
    "                image = imread(source_path+'/'+ t[folder + (len(folder_list) - rest_batch)].strip().split(';')[0]+'/'+imgs[item]).astype(np.float32)\n",
    "\n",
    "                image = imresize(image, (110, 110))\n",
    "\n",
    "                batch_data[folder,idx,:,:,0] = image[:, : , 0] - np.min(image[:, : , 0])/np.max(image[:, : , 0]) - np.min(image[:, : , 0])\n",
    "                batch_data[folder,idx,:,:,1] = image[:, : , 1] - np.min(image[:, : , 1])/np.max(image[:, : , 1]) - np.min(image[:, : , 1])\n",
    "                batch_data[folder,idx,:,:,2] = image[:, : , 2] - np.min(image[:, : , 2])/np.max(image[:, : , 2]) - np.min(image[:, : , 2])\n",
    "\n",
    "            batch_labels[folder, int(t[folder + (len(folder_list) - rest_batch)].strip().split(';')[2])] = 1\n",
    "        yield batch_data, batch_labels"
   ]
  },
  {
   "cell_type": "markdown",
   "metadata": {},
   "source": [
    "Note here that a video is represented above in the generator as (number of images, height, width, number of channels). Take this into consideration while creating the model architecture."
   ]
  },
  {
   "cell_type": "code",
   "execution_count": 6,
   "metadata": {},
   "outputs": [
    {
     "name": "stdout",
     "output_type": "stream",
     "text": [
      "# training sequences = 663\n",
      "# validation sequences = 100\n",
      "# epochs = 10\n"
     ]
    }
   ],
   "source": [
    "curr_dt_time = datetime.datetime.now()\n",
    "train_path = '/mnt/disks/user/project/PROJECT/Project_data/train'\n",
    "val_path = '/mnt/disks/user/project/PROJECT/Project_data/val'\n",
    "num_train_sequences = len(train_doc)\n",
    "print('# training sequences =', num_train_sequences)\n",
    "num_val_sequences = len(val_doc)\n",
    "print('# validation sequences =', num_val_sequences)\n",
    "num_epochs = 10 # choose the number of epochs\n",
    "print ('# epochs =', num_epochs)"
   ]
  },
  {
   "cell_type": "markdown",
   "metadata": {},
   "source": [
    "## Model\n",
    "Here you make the model using different functionalities that Keras provides. Remember to use `Conv3D` and `MaxPooling3D` and not `Conv2D` and `Maxpooling2D` for a 3D convolution model. You would want to use `TimeDistributed` while building a Conv2D + RNN model. Also remember that the last layer is the softmax. Design the network in such a way that the model is able to give good accuracy on the least number of parameters so that it can fit in the memory of the webcam."
   ]
  },
  {
   "cell_type": "code",
   "execution_count": 7,
   "metadata": {},
   "outputs": [],
   "source": [
    "from keras.models import Sequential, Model\n",
    "from keras.layers import Dense, GRU, Flatten, TimeDistributed, BatchNormalization, Activation, Dropout\n",
    "from keras.layers.convolutional import Conv3D, MaxPooling3D, Conv2D, MaxPooling2D\n",
    "from keras.callbacks import ModelCheckpoint, ReduceLROnPlateau\n",
    "from keras import optimizers\n",
    "from keras.layers import LSTM, SimpleRNN\n",
    "\n",
    "#write your model here\n",
    "\n",
    "rnn_model = Sequential()\n",
    "rnn_model.add(TimeDistributed(Conv2D(16,kernel_size=(3,3), activation =\"relu\"),input_shape=(idx_size,110, 110, 3)))\n",
    "rnn_model.add(TimeDistributed(BatchNormalization()))\n",
    "rnn_model.add(TimeDistributed(MaxPooling2D(pool_size=(2,2))))\n",
    "rnn_model.add(TimeDistributed(Dropout(0.25)))\n",
    "\n",
    "rnn_model.add(TimeDistributed(Conv2D(16,kernel_size=(3,3), activation =\"relu\")))\n",
    "rnn_model.add(TimeDistributed(BatchNormalization()))\n",
    "rnn_model.add(TimeDistributed(MaxPooling2D(pool_size=(2,2))))\n",
    "rnn_model.add(TimeDistributed(Dropout(0.25)))\n",
    "\n",
    "rnn_model.add(TimeDistributed(Conv2D(32,kernel_size=(3,3), activation =\"relu\")))\n",
    "rnn_model.add(TimeDistributed(BatchNormalization()))\n",
    "rnn_model.add(TimeDistributed(MaxPooling2D(pool_size=(2,2))))\n",
    "rnn_model.add(TimeDistributed(Dropout(0.25)))\n",
    "\n",
    "# rnn_model.add(TimeDistributed(Conv2D(64,kernel_size=(3,3), activation =\"relu\")))\n",
    "# rnn_model.add(TimeDistributed(BatchNormalization()))\n",
    "# rnn_model.add(TimeDistributed(MaxPooling2D(pool_size=(2,2))))\n",
    "# rnn_model.add(TimeDistributed(Dropout(0.25)))\n",
    "\n",
    "# rnn_model.add(TimeDistributed(Conv2D(128,kernel_size=(3,3), activation =\"relu\")))\n",
    "# rnn_model.add(TimeDistributed(BatchNormalization()))\n",
    "# rnn_model.add(TimeDistributed(MaxPooling2D(pool_size=(2,2))))\n",
    "# rnn_model.add(TimeDistributed(Dropout(0.25)))\n",
    "\n",
    "rnn_model.add(TimeDistributed(Flatten()))\n",
    "rnn_model.add(LSTM(32, activation = \"tanh\"))\n",
    "rnn_model.add(Dense(256,activation='relu'))\n",
    "rnn_model.add(Dropout(0.25))\n",
    "rnn_model.add(Dense(5, activation='softmax'))"
   ]
  },
  {
   "cell_type": "markdown",
   "metadata": {},
   "source": [
    "Now that you have written the model, the next step is to `compile` the model. When you print the `summary` of the model, you'll see the total number of parameters you have to train."
   ]
  },
  {
   "cell_type": "code",
   "execution_count": 8,
   "metadata": {
    "scrolled": true
   },
   "outputs": [
    {
     "name": "stdout",
     "output_type": "stream",
     "text": [
      "_________________________________________________________________\n",
      "Layer (type)                 Output Shape              Param #   \n",
      "=================================================================\n",
      "time_distributed_1 (TimeDist (None, 30, 108, 108, 16)  448       \n",
      "_________________________________________________________________\n",
      "time_distributed_2 (TimeDist (None, 30, 108, 108, 16)  64        \n",
      "_________________________________________________________________\n",
      "time_distributed_3 (TimeDist (None, 30, 54, 54, 16)    0         \n",
      "_________________________________________________________________\n",
      "time_distributed_4 (TimeDist (None, 30, 54, 54, 16)    0         \n",
      "_________________________________________________________________\n",
      "time_distributed_5 (TimeDist (None, 30, 52, 52, 16)    2320      \n",
      "_________________________________________________________________\n",
      "time_distributed_6 (TimeDist (None, 30, 52, 52, 16)    64        \n",
      "_________________________________________________________________\n",
      "time_distributed_7 (TimeDist (None, 30, 26, 26, 16)    0         \n",
      "_________________________________________________________________\n",
      "time_distributed_8 (TimeDist (None, 30, 26, 26, 16)    0         \n",
      "_________________________________________________________________\n",
      "time_distributed_9 (TimeDist (None, 30, 24, 24, 32)    4640      \n",
      "_________________________________________________________________\n",
      "time_distributed_10 (TimeDis (None, 30, 24, 24, 32)    128       \n",
      "_________________________________________________________________\n",
      "time_distributed_11 (TimeDis (None, 30, 12, 12, 32)    0         \n",
      "_________________________________________________________________\n",
      "time_distributed_12 (TimeDis (None, 30, 12, 12, 32)    0         \n",
      "_________________________________________________________________\n",
      "time_distributed_13 (TimeDis (None, 30, 4608)          0         \n",
      "_________________________________________________________________\n",
      "lstm_1 (LSTM)                (None, 32)                594048    \n",
      "_________________________________________________________________\n",
      "dense_1 (Dense)              (None, 256)               8448      \n",
      "_________________________________________________________________\n",
      "dropout_4 (Dropout)          (None, 256)               0         \n",
      "_________________________________________________________________\n",
      "dense_2 (Dense)              (None, 5)                 1285      \n",
      "=================================================================\n",
      "Total params: 611,445\n",
      "Trainable params: 611,317\n",
      "Non-trainable params: 128\n",
      "_________________________________________________________________\n",
      "None\n"
     ]
    }
   ],
   "source": [
    "optimiser = 'Adam'#write your optimizer\n",
    "rnn_model.compile(optimizer=optimiser, loss='categorical_crossentropy', metrics=['categorical_accuracy'])\n",
    "print (rnn_model.summary())"
   ]
  },
  {
   "cell_type": "markdown",
   "metadata": {},
   "source": [
    "Let us create the `train_generator` and the `val_generator` which will be used in `.fit_generator`."
   ]
  },
  {
   "cell_type": "code",
   "execution_count": 9,
   "metadata": {},
   "outputs": [],
   "source": [
    "train_generator = generator(train_path, train_doc, batch_size)\n",
    "val_generator = generator(val_path, val_doc, batch_size)"
   ]
  },
  {
   "cell_type": "code",
   "execution_count": 10,
   "metadata": {},
   "outputs": [],
   "source": [
    "model_name = 'model_init' + '_' + str(curr_dt_time).replace(' ','').replace(':','_') + '/'\n",
    "    \n",
    "if not os.path.exists(model_name):\n",
    "    os.mkdir(model_name)\n",
    "        \n",
    "filepath = model_name + 'model-{epoch:05d}-{loss:.5f}-{categorical_accuracy:.5f}-{val_loss:.5f}-{val_categorical_accuracy:.5f}.h5'\n",
    "\n",
    "checkpoint = ModelCheckpoint(filepath, monitor='val_loss', verbose=1, save_best_only=False, save_weights_only=False, mode='auto', period=1)\n",
    "\n",
    "LR = ReduceLROnPlateau(monitor='val_loss', factor=0.5, patience=2, cooldown=1, verbose=1)\n",
    "callbacks_list = [checkpoint, LR]"
   ]
  },
  {
   "cell_type": "markdown",
   "metadata": {},
   "source": [
    "The `steps_per_epoch` and `validation_steps` are used by `fit_generator` to decide the number of next() calls it need to make."
   ]
  },
  {
   "cell_type": "code",
   "execution_count": 11,
   "metadata": {},
   "outputs": [],
   "source": [
    "if (num_train_sequences%batch_size) == 0:\n",
    "    steps_per_epoch = int(num_train_sequences/batch_size)\n",
    "else:\n",
    "    steps_per_epoch = (num_train_sequences//batch_size) + 1\n",
    "\n",
    "if (num_val_sequences%batch_size) == 0:\n",
    "    validation_steps = int(num_val_sequences/batch_size)\n",
    "else:\n",
    "    validation_steps = (num_val_sequences//batch_size) + 1"
   ]
  },
  {
   "cell_type": "markdown",
   "metadata": {},
   "source": [
    "Let us now fit the model. This will start training the model and with the help of the checkpoints, you'll be able to save the model at the end of each epoch."
   ]
  },
  {
   "cell_type": "code",
   "execution_count": 12,
   "metadata": {},
   "outputs": [
    {
     "name": "stdout",
     "output_type": "stream",
     "text": [
      "Source path = Source path =  /mnt/disks/user/project/PROJECT/Project_data/train ; batch size = 80\n",
      " /mnt/disks/user/project/PROJECT/Project_data/val ; batch size = 80\n",
      "Epoch 1/10\n"
     ]
    },
    {
     "name": "stderr",
     "output_type": "stream",
     "text": [
      "/mnt/disks/user/anaconda3/lib/python3.6/site-packages/ipykernel_launcher.py:20: DeprecationWarning: `imread` is deprecated!\n",
      "`imread` is deprecated in SciPy 1.0.0, and will be removed in 1.2.0.\n",
      "Use ``imageio.imread`` instead.\n",
      "/mnt/disks/user/anaconda3/lib/python3.6/site-packages/ipykernel_launcher.py:25: DeprecationWarning: `imresize` is deprecated!\n",
      "`imresize` is deprecated in SciPy 1.0.0, and will be removed in 1.2.0.\n",
      "Use ``skimage.transform.resize`` instead.\n",
      "/mnt/disks/user/anaconda3/lib/python3.6/site-packages/ipykernel_launcher.py:42: DeprecationWarning: `imread` is deprecated!\n",
      "`imread` is deprecated in SciPy 1.0.0, and will be removed in 1.2.0.\n",
      "Use ``imageio.imread`` instead.\n",
      "/mnt/disks/user/anaconda3/lib/python3.6/site-packages/ipykernel_launcher.py:44: DeprecationWarning: `imresize` is deprecated!\n",
      "`imresize` is deprecated in SciPy 1.0.0, and will be removed in 1.2.0.\n",
      "Use ``skimage.transform.resize`` instead.\n"
     ]
    },
    {
     "name": "stdout",
     "output_type": "stream",
     "text": [
      "9/9 [==============================] - 100s 11s/step - loss: 1.5699 - categorical_accuracy: 0.2792 - val_loss: 1.4543 - val_categorical_accuracy: 0.4300\n",
      "\n",
      "Epoch 00001: saving model to model_init_2020-02-1015_02_28.504976/model-00001-1.57841-0.26395-1.45427-0.43000.h5\n",
      "Epoch 2/10\n",
      "9/9 [==============================] - 79s 9s/step - loss: 1.3790 - categorical_accuracy: 0.4486 - val_loss: 1.2606 - val_categorical_accuracy: 0.5000\n",
      "\n",
      "Epoch 00002: saving model to model_init_2020-02-1015_02_28.504976/model-00002-1.37143-0.46305-1.26062-0.50000.h5\n",
      "Epoch 3/10\n",
      "9/9 [==============================] - 80s 9s/step - loss: 1.1735 - categorical_accuracy: 0.5525 - val_loss: 1.0910 - val_categorical_accuracy: 0.5900\n",
      "\n",
      "Epoch 00003: saving model to model_init_2020-02-1015_02_28.504976/model-00003-1.17556-0.54148-1.09099-0.59000.h5\n",
      "Epoch 4/10\n",
      "9/9 [==============================] - 80s 9s/step - loss: 1.0172 - categorical_accuracy: 0.6107 - val_loss: 1.0737 - val_categorical_accuracy: 0.4900\n",
      "\n",
      "Epoch 00004: saving model to model_init_2020-02-1015_02_28.504976/model-00004-1.02354-0.61086-1.07370-0.49000.h5\n",
      "Epoch 5/10\n",
      "9/9 [==============================] - 80s 9s/step - loss: 0.9214 - categorical_accuracy: 0.6317 - val_loss: 1.0467 - val_categorical_accuracy: 0.5700\n",
      "\n",
      "Epoch 00005: saving model to model_init_2020-02-1015_02_28.504976/model-00005-0.92285-0.63348-1.04671-0.57000.h5\n",
      "Epoch 6/10\n",
      "9/9 [==============================] - 81s 9s/step - loss: 0.8417 - categorical_accuracy: 0.6844 - val_loss: 0.9352 - val_categorical_accuracy: 0.6500\n",
      "\n",
      "Epoch 00006: saving model to model_init_2020-02-1015_02_28.504976/model-00006-0.84454-0.68024-0.93522-0.65000.h5\n",
      "Epoch 7/10\n",
      "9/9 [==============================] - 80s 9s/step - loss: 0.7224 - categorical_accuracy: 0.7450 - val_loss: 1.0040 - val_categorical_accuracy: 0.6100\n",
      "\n",
      "Epoch 00007: saving model to model_init_2020-02-1015_02_28.504976/model-00007-0.73137-0.74208-1.00403-0.61000.h5\n",
      "Epoch 8/10\n",
      "9/9 [==============================] - 80s 9s/step - loss: 0.6139 - categorical_accuracy: 0.7825 - val_loss: 0.8681 - val_categorical_accuracy: 0.6200\n",
      "\n",
      "Epoch 00008: saving model to model_init_2020-02-1015_02_28.504976/model-00008-0.60101-0.78582-0.86807-0.62000.h5\n",
      "Epoch 9/10\n",
      "9/9 [==============================] - 80s 9s/step - loss: 0.5274 - categorical_accuracy: 0.8318 - val_loss: 0.8592 - val_categorical_accuracy: 0.7000\n",
      "\n",
      "Epoch 00009: saving model to model_init_2020-02-1015_02_28.504976/model-00009-0.52723-0.83560-0.85919-0.70000.h5\n",
      "Epoch 10/10\n",
      "9/9 [==============================] - 80s 9s/step - loss: 0.4098 - categorical_accuracy: 0.8789 - val_loss: 0.9128 - val_categorical_accuracy: 0.6500\n",
      "\n",
      "Epoch 00010: saving model to model_init_2020-02-1015_02_28.504976/model-00010-0.41610-0.87632-0.91277-0.65000.h5\n"
     ]
    },
    {
     "data": {
      "text/plain": [
       "<keras.callbacks.History at 0x7fb134abd4e0>"
      ]
     },
     "execution_count": 12,
     "metadata": {},
     "output_type": "execute_result"
    }
   ],
   "source": [
    "rnn_model.fit_generator(train_generator, steps_per_epoch=steps_per_epoch, epochs=num_epochs, verbose=1, \n",
    "                    callbacks=callbacks_list, validation_data=val_generator, \n",
    "                    validation_steps=validation_steps, class_weight=None, workers=1, initial_epoch=0)"
   ]
  },
  {
   "cell_type": "code",
   "execution_count": null,
   "metadata": {},
   "outputs": [],
   "source": []
  }
 ],
 "metadata": {
  "kernelspec": {
   "display_name": "Python 3",
   "language": "python",
   "name": "python3"
  },
  "language_info": {
   "codemirror_mode": {
    "name": "ipython",
    "version": 3
   },
   "file_extension": ".py",
   "mimetype": "text/x-python",
   "name": "python",
   "nbconvert_exporter": "python",
   "pygments_lexer": "ipython3",
   "version": "3.6.8"
  }
 },
 "nbformat": 4,
 "nbformat_minor": 2
}
